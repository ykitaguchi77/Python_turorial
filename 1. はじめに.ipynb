{
  "nbformat": 4,
  "nbformat_minor": 0,
  "metadata": {
    "colab": {
      "name": "Untitled95.ipynb",
      "provenance": [],
      "authorship_tag": "ABX9TyNPIPcm8wpdudx0U1Xwpci7",
      "include_colab_link": true
    },
    "kernelspec": {
      "name": "python3",
      "display_name": "Python 3"
    },
    "language_info": {
      "name": "python"
    }
  },
  "cells": [
    {
      "cell_type": "markdown",
      "metadata": {
        "id": "view-in-github",
        "colab_type": "text"
      },
      "source": [
        "<a href=\"https://colab.research.google.com/github/ykitaguchi77/Python_turorial/blob/main/1.%20%E3%81%AF%E3%81%98%E3%82%81%E3%81%AB.ipynb\" target=\"_parent\"><img src=\"https://colab.research.google.com/assets/colab-badge.svg\" alt=\"Open In Colab\"/></a>"
      ]
    },
    {
      "cell_type": "markdown",
      "source": [
        "#**Pythonの教科書**\n",
        "\n",
        "\n",
        "#はじめに\n",
        "\n",
        "本編は、Pythonをゼロから始めようとする人を対象としています。\n",
        "\n",
        "主な部分は、三谷純著『Python ゼロからはじめるプログラミング』 翔泳社に準拠しています。\n",
        "どなたでも自由にご活用下さい。"
      ],
      "metadata": {
        "id": "sSZ0ZpzHmZPQ"
      }
    },
    {
      "cell_type": "markdown",
      "source": [
        "#**目次**\n",
        "\n",
        "1. プログラミングを効率よく学習するコツ\n",
        "\n",
        "2. なぜPythonがおすすめなのか？？\n",
        "\n",
        "3. Pythonに触れてみよう"
      ],
      "metadata": {
        "id": "Sm4u_dAmnuou"
      }
    },
    {
      "cell_type": "markdown",
      "source": [
        "#**1. プログラミングを効率よく学習するコツ**\n",
        "\n",
        "**覚えるな！手を動かせ！**<br>\n",
        "文法がたくさん出てきますが、いちいち覚えていてはきりがありません。\n",
        "早く習得するコツは、「サンプルプログラムを動かしてみること」。まず動かしてみて、次に一部を書き換えたときに挙動がどのように変化するかを観察します。動きがわかったら、さっさと忘れて次にいきましょう。必要になったらググってコピペすれば良いです。<br><br>\n",
        "\n",
        "**サンプルプログラムはどこにあるのか**<br>\n",
        "・Tutorial<br>\n",
        "本家のチュートリアルは鉄板です。サンプルコードが確実に動くからです。ただ、網羅的なので全部やろうとすると挫折します。また、英語で書いてあるので読むのが面倒です。\n",
        "<br>\n",
        "Python tutorial　https://docs.python.org/ja/3/tutorial/<br>\n",
        "Pytorch tutorial https://pytorch.org/tutorials/\n",
        "<br>\n",
        "押さえておきたいところは本編でも紹介しようと思います。\n",
        "<br>\n",
        "<br>\n",
        "・Webの「〜をやってみた」系\n",
        "\n"
      ],
      "metadata": {
        "id": "l5A6pLJcoW7b"
      }
    }
  ]
}